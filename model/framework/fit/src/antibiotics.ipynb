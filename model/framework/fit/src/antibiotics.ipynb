{
 "cells": [
  {
   "cell_type": "code",
   "execution_count": 47,
   "id": "7e525a40",
   "metadata": {},
   "outputs": [],
   "source": [
    "# STEP 1: USE CHATGPT TO PARSE THIS WEBSITE AND GENERATE A CSV FILE OF THE CONTENTS\n",
    "# STEP 2: MANUALLY ANNOTATE GARDP ANTIBIOTIC CLASSES WITH CHEBI IDS\n",
    "# STEP 3: DOWNLOAD CHEBI ONTOLOGY FILE FROM: https://ftp.ebi.ac.uk/pub/databases/chebi-2/ontology/ ---> chebi_lite.json.gz"
   ]
  },
  {
   "cell_type": "code",
   "execution_count": 48,
   "id": "73a05b88",
   "metadata": {},
   "outputs": [],
   "source": [
    "from collections import Counter\n",
    "import gzip\n",
    "import json"
   ]
  },
  {
   "cell_type": "code",
   "execution_count": 49,
   "id": "506777d4",
   "metadata": {},
   "outputs": [
    {
     "name": "stdout",
     "output_type": "stream",
     "text": [
      "Number of edges: 377879\n",
      "Number of nodes: 223061\n"
     ]
    }
   ],
   "source": [
    "# Read json file\n",
    "file_path = \"../data/chebi_lite.json.gz\"\n",
    "with gzip.open(file_path, 'rt', encoding='utf-8') as f:\n",
    "    data = json.load(f)\n",
    "\n",
    "# Clean data\n",
    "data = data['graphs'][0]\n",
    "nodes, edges = data['nodes'], data['edges']\n",
    "\n",
    "print(f\"Number of edges: {len(edges)}\")\n",
    "print(f\"Number of nodes: {len(nodes)}\")"
   ]
  },
  {
   "cell_type": "code",
   "execution_count": 50,
   "id": "49a3d159",
   "metadata": {},
   "outputs": [
    {
     "data": {
      "text/plain": [
       "Counter({'CLASS': 223037, 'PROPERTY': 24})"
      ]
     },
     "execution_count": 50,
     "metadata": {},
     "output_type": "execute_result"
    }
   ],
   "source": [
    "Counter([i['type'] for i in nodes])"
   ]
  },
  {
   "cell_type": "code",
   "execution_count": 41,
   "id": "8284dc90",
   "metadata": {},
   "outputs": [
    {
     "data": {
      "text/plain": [
       "71"
      ]
     },
     "execution_count": 41,
     "metadata": {},
     "output_type": "execute_result"
    }
   ],
   "source": [
    "len([i for i in nodes if \"lbl\" in i and \"antibiotic\" in i['lbl'].lower()])"
   ]
  },
  {
   "cell_type": "code",
   "execution_count": 43,
   "id": "682315bd",
   "metadata": {},
   "outputs": [
    {
     "data": {
      "text/plain": [
       "{'id': 'http://purl.obolibrary.org/obo/CHEBI_39217',\n",
       " 'lbl': 'antibiotic nematicide',\n",
       " 'type': 'CLASS',\n",
       " 'meta': {'subsets': ['http://purl.obolibrary.org/obo/chebi/1_STAR'],\n",
       "  'basicPropertyValues': [{'pred': 'http://www.geneontology.org/formats/oboInOwl#hasOBONamespace',\n",
       "    'val': 'chebi_ontology'}]}}"
      ]
     },
     "execution_count": 43,
     "metadata": {},
     "output_type": "execute_result"
    }
   ],
   "source": [
    "[i for i in nodes if \"lbl\" in i and \"antibiotic\" in i['lbl'].lower()][45]"
   ]
  },
  {
   "cell_type": "code",
   "execution_count": 46,
   "id": "13f9546c",
   "metadata": {},
   "outputs": [
    {
     "data": {
      "text/plain": [
       "[{'id': 'http://purl.obolibrary.org/obo/CHEBI_29470',\n",
       "  'lbl': '2-(Biaryl)carbapenems',\n",
       "  'type': 'CLASS',\n",
       "  'meta': {'subsets': ['http://purl.obolibrary.org/obo/chebi/2_STAR'],\n",
       "   'basicPropertyValues': [{'pred': 'http://www.geneontology.org/formats/oboInOwl#hasOBONamespace',\n",
       "     'val': 'chebi_ontology'}]}},\n",
       " {'id': 'http://purl.obolibrary.org/obo/CHEBI_46633',\n",
       "  'lbl': 'carbapenems',\n",
       "  'type': 'CLASS',\n",
       "  'meta': {'definition': {'val': 'The class of β-lactam antibiotics that whose members have a carbapenem skeleton which is variously substituted at positions 3, 4, and 6.'},\n",
       "   'subsets': ['http://purl.obolibrary.org/obo/chebi/3_STAR'],\n",
       "   'basicPropertyValues': [{'pred': 'http://www.geneontology.org/formats/oboInOwl#hasOBONamespace',\n",
       "     'val': 'chebi_ontology'}]}}]"
      ]
     },
     "execution_count": 46,
     "metadata": {},
     "output_type": "execute_result"
    }
   ],
   "source": [
    "[i for i in nodes if \"lbl\" in i and \"carbapenems\" in i['lbl'].lower()]"
   ]
  },
  {
   "cell_type": "code",
   "execution_count": null,
   "id": "9083e356",
   "metadata": {},
   "outputs": [],
   "source": []
  }
 ],
 "metadata": {
  "kernelspec": {
   "display_name": "eos6tpo",
   "language": "python",
   "name": "python3"
  },
  "language_info": {
   "codemirror_mode": {
    "name": "ipython",
    "version": 3
   },
   "file_extension": ".py",
   "mimetype": "text/x-python",
   "name": "python",
   "nbconvert_exporter": "python",
   "pygments_lexer": "ipython3",
   "version": "3.10.18"
  }
 },
 "nbformat": 4,
 "nbformat_minor": 5
}
